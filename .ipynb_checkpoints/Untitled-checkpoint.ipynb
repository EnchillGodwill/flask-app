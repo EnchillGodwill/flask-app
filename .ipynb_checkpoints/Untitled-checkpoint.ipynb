{
 "cells": [
  {
   "cell_type": "code",
   "execution_count": 5,
   "id": "3cc63d1c",
   "metadata": {},
   "outputs": [
    {
     "ename": "SyntaxError",
     "evalue": "invalid syntax (2796904542.py, line 4)",
     "output_type": "error",
     "traceback": [
      "\u001b[0;36m  File \u001b[0;32m\"/tmp/ipykernel_21252/2796904542.py\"\u001b[0;36m, line \u001b[0;32m4\u001b[0m\n\u001b[0;31m    df = pd.DataFrame(, columns=['reading', 'createdAt'])\u001b[0m\n\u001b[0m                      ^\u001b[0m\n\u001b[0;31mSyntaxError\u001b[0m\u001b[0;31m:\u001b[0m invalid syntax\n"
     ]
    }
   ],
   "source": [
    "import plotly.express as px, plotly.io as pio\n",
    "import pandas as pd\n",
    "\n",
    "df = pd.DataFrame([{'reading': 0.12, 'createdAt': '12-04-22'}, {'reading': 0.22, 'createdAt': '15-04-22'}], columns=['reading', 'createdAt'])\n",
    "\n",
    "fig = px.line(df, y='reading', x='createdAt')\n",
    "pio.write_json(fig)"
   ]
  },
  {
   "cell_type": "code",
   "execution_count": null,
   "id": "fd21eb9d",
   "metadata": {},
   "outputs": [],
   "source": []
  }
 ],
 "metadata": {
  "kernelspec": {
   "display_name": "Python 3 (ipykernel)",
   "language": "python",
   "name": "python3"
  },
  "language_info": {
   "codemirror_mode": {
    "name": "ipython",
    "version": 3
   },
   "file_extension": ".py",
   "mimetype": "text/x-python",
   "name": "python",
   "nbconvert_exporter": "python",
   "pygments_lexer": "ipython3",
   "version": "3.9.7"
  }
 },
 "nbformat": 4,
 "nbformat_minor": 5
}
